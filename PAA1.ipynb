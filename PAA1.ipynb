{
 "cells": [
  {
   "cell_type": "raw",
   "id": "8e197c32",
   "metadata": {},
   "source": [
    "Q1. What is the purpose of Python's OOP?\n",
    "ans- In Python, object-oriented Programming (OOPs) is a programming paradigm that uses objects and classes in programming. in the programming. The main concept of OOPs is to bind the data and the functions that work on that together as a single unit so that no other part of the code can access this data."
   ]
  },
  {
   "cell_type": "raw",
   "id": "afb30387",
   "metadata": {},
   "source": [
    "Q2. Where does an inheritance search look for an attribute?\n",
    "ans- tree"
   ]
  },
  {
   "cell_type": "raw",
   "id": "cce5ed91",
   "metadata": {},
   "source": [
    "Q3. How do you distinguish between a class object and an instance object?\n",
    "ans- In simple words, Instance refers to the copy of the object at a particular time whereas object refers to the memory address of the class."
   ]
  },
  {
   "cell_type": "raw",
   "id": "a0637680",
   "metadata": {},
   "source": [
    "Q4. What makes the first argument in a class’s method function special?\n",
    "ans- self represents the instance of the class. By using the “self” keyword we can access the attributes and methods of the class in python. It binds the attributes with the given arguments.\n",
    "ex - class check:\n",
    "    def __init__(self):\n",
    "        print(\"Address of self = \",id(self))\n",
    " \n",
    "obj = check()\n",
    "print(\"Address of class object = \",id(obj))"
   ]
  },
  {
   "cell_type": "raw",
   "id": "4bae19a9",
   "metadata": {},
   "source": [
    "Q5. What is the purpose of the __init__ method?\n",
    "ans- The __init__ method is the Python equivalent of the C++ constructor in an object-oriented approach. The __init__  function is called every time an object is created from a class. The __init__ method lets the class initialize the object’s attributes and serves no other purpose. It is only used within classes. "
   ]
  },
  {
   "cell_type": "raw",
   "id": "fc34dc7c",
   "metadata": {},
   "source": [
    "Q6. What is the process for creating a class instance?\n",
    "ans- The first method __init__() is a special method, which is called class constructor or initialization method that Python calls when you create a new instance of this class. You declare other class methods like normal functions with the exception that the first argument to each method is self."
   ]
  },
  {
   "cell_type": "raw",
   "id": "6e20d904",
   "metadata": {},
   "source": [
    "Q7. What is the process for creating a class?\n",
    "ans- A class is a code template for creating objects. Objects have member variables and have behaviour associated with them. In python a class is created by the keyword class"
   ]
  },
  {
   "cell_type": "raw",
   "id": "45bc6e60",
   "metadata": {},
   "source": [
    "Q8. How would you define the superclasses of a class?\n",
    "ans- The class from which a class inherits is called the parent or superclass. The super() function is used to give access to methods and properties of a parent or sibling class"
   ]
  }
 ],
 "metadata": {
  "kernelspec": {
   "display_name": "Python 3 (ipykernel)",
   "language": "python",
   "name": "python3"
  },
  "language_info": {
   "codemirror_mode": {
    "name": "ipython",
    "version": 3
   },
   "file_extension": ".py",
   "mimetype": "text/x-python",
   "name": "python",
   "nbconvert_exporter": "python",
   "pygments_lexer": "ipython3",
   "version": "3.9.7"
  }
 },
 "nbformat": 4,
 "nbformat_minor": 5
}
